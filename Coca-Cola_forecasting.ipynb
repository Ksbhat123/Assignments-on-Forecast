{
  "cells": [
    {
      "metadata": {
        "trusted": true
      },
      "cell_type": "code",
      "source": "import pandas as pd\ncococola= pd.read_excel(\"CocaCola_Sales_Rawdata.xlsx\")",
      "execution_count": 2,
      "outputs": []
    },
    {
      "metadata": {
        "trusted": true
      },
      "cell_type": "code",
      "source": "import numpy as np\nquarter=['Q1','Q2','Q3','Q4']\nn=cococola['Quarter'][0]\nn[0:2]",
      "execution_count": 3,
      "outputs": [
        {
          "data": {
            "text/plain": "'Q1'"
          },
          "execution_count": 3,
          "metadata": {},
          "output_type": "execute_result"
        }
      ]
    },
    {
      "metadata": {
        "trusted": true
      },
      "cell_type": "code",
      "source": "cococola['quarter']=0",
      "execution_count": 4,
      "outputs": []
    },
    {
      "metadata": {
        "trusted": true
      },
      "cell_type": "code",
      "source": "for i in range(42):\n    n=cococola['Quarter'][i]\n    cococola['quarter'][i]=n[0:2]",
      "execution_count": 5,
      "outputs": [
        {
          "name": "stderr",
          "output_type": "stream",
          "text": "C:\\Users\\ADMIN\\anaconda3\\lib\\site-packages\\ipykernel_launcher.py:3: SettingWithCopyWarning: \nA value is trying to be set on a copy of a slice from a DataFrame\n\nSee the caveats in the documentation: https://pandas.pydata.org/pandas-docs/stable/user_guide/indexing.html#returning-a-view-versus-a-copy\n  This is separate from the ipykernel package so we can avoid doing imports until\nC:\\Users\\ADMIN\\anaconda3\\lib\\site-packages\\pandas\\core\\indexing.py:670: SettingWithCopyWarning: \nA value is trying to be set on a copy of a slice from a DataFrame\n\nSee the caveats in the documentation: https://pandas.pydata.org/pandas-docs/stable/user_guide/indexing.html#returning-a-view-versus-a-copy\n  iloc._setitem_with_indexer(indexer, value)\n"
        }
      ]
    },
    {
      "metadata": {
        "trusted": true
      },
      "cell_type": "code",
      "source": "dummy=pd.DataFrame(pd.get_dummies(cococola['quarter']))",
      "execution_count": 6,
      "outputs": []
    },
    {
      "metadata": {
        "trusted": true
      },
      "cell_type": "code",
      "source": "coco=pd.concat((cococola,dummy),axis=1)",
      "execution_count": 7,
      "outputs": []
    },
    {
      "metadata": {
        "trusted": true
      },
      "cell_type": "code",
      "source": "t= np.arange(1,43)\ncoco['t']=t\ncoco['t_square']=coco['t']*coco['t']",
      "execution_count": 8,
      "outputs": []
    },
    {
      "metadata": {
        "trusted": true
      },
      "cell_type": "code",
      "source": "log_Sales=np.log(coco['Sales'])\ncoco['log_Sales']=log_Sales",
      "execution_count": 9,
      "outputs": []
    },
    {
      "metadata": {
        "trusted": true
      },
      "cell_type": "code",
      "source": "train= coco.head(38)\ntest=coco.tail(4)\ncoco.Sales.plot()",
      "execution_count": 10,
      "outputs": [
        {
          "data": {
            "text/plain": "<AxesSubplot:>"
          },
          "execution_count": 10,
          "metadata": {},
          "output_type": "execute_result"
        },
        {
          "data": {
            "image/png": "[encoded data removed]",
            "text/plain": "<Figure size 432x288 with 1 Axes>"
          },
          "metadata": {
            "needs_background": "light"
          },
          "output_type": "display_data"
        }
      ]
    },
    {
      "metadata": {
        "trusted": true
      },
      "cell_type": "code",
      "source": "import statsmodels.formula.api as smf",
      "execution_count": 11,
      "outputs": []
    },
    {
      "metadata": {
        "trusted": true
      },
      "cell_type": "code",
      "source": "#linear model\nlinear= smf.ols('Sales~t',data=train).fit()\npredlin=pd.Series(linear.predict(pd.DataFrame(test['t'])))\nrmselin=np.sqrt((np.mean(np.array(test['Sales'])-np.array(predlin))**2))\nrmselin",
      "execution_count": 12,
      "outputs": [
        {
          "data": {
            "text/plain": "421.17878760022745"
          },
          "execution_count": 12,
          "metadata": {},
          "output_type": "execute_result"
        }
      ]
    },
    {
      "metadata": {
        "trusted": true
      },
      "cell_type": "code",
      "source": "#quadratic model\nquad=smf.ols('Sales~t+t_square',data=train).fit()\npredquad=pd.Series(quad.predict(pd.DataFrame(test[['t','t_square']])))\nrmsequad=np.sqrt(np.mean((np.array(test['Sales'])-np.array(predquad))**2))\nrmsequad",
      "execution_count": 13,
      "outputs": [
        {
          "data": {
            "text/plain": "475.56183518315606"
          },
          "execution_count": 13,
          "metadata": {},
          "output_type": "execute_result"
        }
      ]
    },
    {
      "metadata": {
        "trusted": true
      },
      "cell_type": "code",
      "source": "#exponential model\nexpo=smf.ols('log_Sales~t',data=train).fit()\npredexp=pd.Series(expo.predict(pd.DataFrame(test['t'])))\npredexp\nrmseexpo=np.sqrt(np.mean((np.array(test['Sales'])-np.array(np.exp(predexp)))**2))\nrmseexpo\n",
      "execution_count": 14,
      "outputs": [
        {
          "data": {
            "text/plain": "466.2479731067161"
          },
          "execution_count": 14,
          "metadata": {},
          "output_type": "execute_result"
        }
      ]
    },
    {
      "metadata": {
        "trusted": true
      },
      "cell_type": "code",
      "source": "#additive seasonality\nadditive= smf.ols('Sales~ Q1+Q2+Q3+Q4',data=train).fit()\npredadd=pd.Series(additive.predict(pd.DataFrame(test[['Q1','Q2','Q3','Q4']])))\npredadd\nrmseadd=np.sqrt(np.mean((np.array(test['Sales'])-np.array(predadd))**2))\nrmseadd",
      "execution_count": 15,
      "outputs": [
        {
          "data": {
            "text/plain": "1860.0238154547274"
          },
          "execution_count": 15,
          "metadata": {},
          "output_type": "execute_result"
        }
      ]
    },
    {
      "metadata": {
        "trusted": true
      },
      "cell_type": "code",
      "source": "#additive seasonality with linear trend\naddlinear= smf.ols('Sales~t+Q1+Q2+Q3+Q4',data=train).fit()\npredaddlinear=pd.Series(addlinear.predict(pd.DataFrame(test[['t','Q1','Q2','Q3','Q4']])))\npredaddlinear",
      "execution_count": 16,
      "outputs": [
        {
          "data": {
            "text/plain": "38    4292.265126\n39    4066.761792\n40    3961.769195\n41    4639.214094\ndtype: float64"
          },
          "execution_count": 16,
          "metadata": {},
          "output_type": "execute_result"
        }
      ]
    },
    {
      "metadata": {
        "trusted": true
      },
      "cell_type": "code",
      "source": "rmseaddlinear=np.sqrt(np.mean((np.array(test['Sales'])-np.array(predaddlinear))**2))\nrmseaddlinear",
      "execution_count": 17,
      "outputs": [
        {
          "data": {
            "text/plain": "464.98290239822455"
          },
          "execution_count": 17,
          "metadata": {},
          "output_type": "execute_result"
        }
      ]
    },
    {
      "metadata": {
        "trusted": true
      },
      "cell_type": "code",
      "source": "#additive seasonality with quadratic trend\naddquad=smf.ols('Sales~t+t_square+Q1+Q2+Q3+Q4',data=train).fit()\npredaddquad=pd.Series(addquad.predict(pd.DataFrame(test[['t','t_square','Q1','Q2','Q3','Q4']])))\nrmseaddquad=np.sqrt(np.mean((np.array(test['Sales'])-np.array(predaddquad))**2))\nrmseaddquad",
      "execution_count": 18,
      "outputs": [
        {
          "data": {
            "text/plain": "301.7380071935205"
          },
          "execution_count": 18,
          "metadata": {},
          "output_type": "execute_result"
        }
      ]
    },
    {
      "metadata": {
        "trusted": true
      },
      "cell_type": "code",
      "source": "#multiplicative seasonality\nmulsea=smf.ols('log_Sales~Q1+Q2+Q3+Q4',data=train).fit()\npredmul= pd.Series(mulsea.predict(pd.DataFrame(test[['Q1','Q2','Q3','Q4']])))\nrmsemul= np.sqrt(np.mean((np.array(test['Sales'])-np.array(np.exp(predmul)))**2))\nrmsemul",
      "execution_count": 19,
      "outputs": [
        {
          "data": {
            "text/plain": "1963.3896400779693"
          },
          "execution_count": 19,
          "metadata": {},
          "output_type": "execute_result"
        }
      ]
    },
    {
      "metadata": {
        "trusted": true
      },
      "cell_type": "code",
      "source": "#multiplicative seasonality with linear trend\nmullin= smf.ols('log_Sales~t+Q1+Q2+Q3+Q4',data=train).fit()\npredmullin= pd.Series(mullin.predict(pd.DataFrame(test[['t','Q1','Q2','Q3','Q4']])))\nrmsemulin=np.sqrt(np.mean((np.array(test['Sales'])-np.array(np.exp(predmullin)))**2))\nrmsemulin",
      "execution_count": 20,
      "outputs": [
        {
          "data": {
            "text/plain": "225.524390498277"
          },
          "execution_count": 20,
          "metadata": {},
          "output_type": "execute_result"
        }
      ]
    },
    {
      "metadata": {
        "trusted": true
      },
      "cell_type": "code",
      "source": "#multiplicative seasonality with quadratic trend\nmul_quad= smf.ols('log_Sales~t+t_square+Q1+Q2+Q3+Q4',data=train).fit()\npred_mul_quad= pd.Series(mul_quad.predict(test[['t','t_square','Q1','Q2','Q3','Q4']]))\nrmse_mul_quad=np.sqrt(np.mean((np.array(test['Sales'])-np.array(np.exp(pred_mul_quad)))**2))\nrmse_mul_quad",
      "execution_count": 21,
      "outputs": [
        {
          "data": {
            "text/plain": "581.8457187970001"
          },
          "execution_count": 21,
          "metadata": {},
          "output_type": "execute_result"
        }
      ]
    },
    {
      "metadata": {
        "trusted": true
      },
      "cell_type": "code",
      "source": "#tabulating the rmse values\n\ndata={'Model':pd.Series(['rmse_mul_quad','rmseadd','rmseaddlinear','rmseaddquad','rmseexpo','rmselin','rmsemul','rmsemulin','rmsequad']),'Values':pd.Series([rmse_mul_quad,rmseadd,rmseaddlinear,rmseaddquad,rmseexpo,rmselin,rmsemul,rmsemulin,rmsequad])}\ndata\nRmse=pd.DataFrame(data)\nRmse",
      "execution_count": 25,
      "outputs": [
        {
          "data": {
            "text/html": "<div>\n<style scoped>\n    .dataframe tbody tr th:only-of-type {\n        vertical-align: middle;\n    }\n\n    .dataframe tbody tr th {\n        vertical-align: top;\n    }\n\n    .dataframe thead th {\n        text-align: right;\n    }\n</style>\n<table border=\"1\" class=\"dataframe\">\n  <thead>\n    <tr style=\"text-align: right;\">\n      <th></th>\n      <th>Model</th>\n      <th>Values</th>\n    </tr>\n  </thead>\n  <tbody>\n    <tr>\n      <th>0</th>\n      <td>rmse_mul_quad</td>\n      <td>581.845719</td>\n    </tr>\n    <tr>\n      <th>1</th>\n      <td>rmseadd</td>\n      <td>1860.023815</td>\n    </tr>\n    <tr>\n      <th>2</th>\n      <td>rmseaddlinear</td>\n      <td>464.982902</td>\n    </tr>\n    <tr>\n      <th>3</th>\n      <td>rmseaddquad</td>\n      <td>301.738007</td>\n    </tr>\n    <tr>\n      <th>4</th>\n      <td>rmseexpo</td>\n      <td>466.247973</td>\n    </tr>\n    <tr>\n      <th>5</th>\n      <td>rmselin</td>\n      <td>421.178788</td>\n    </tr>\n    <tr>\n      <th>6</th>\n      <td>rmsemul</td>\n      <td>1963.389640</td>\n    </tr>\n    <tr>\n      <th>7</th>\n      <td>rmsemulin</td>\n      <td>225.524390</td>\n    </tr>\n    <tr>\n      <th>8</th>\n      <td>rmsequad</td>\n      <td>475.561835</td>\n    </tr>\n  </tbody>\n</table>\n</div>",
            "text/plain": "           Model       Values\n0  rmse_mul_quad   581.845719\n1        rmseadd  1860.023815\n2  rmseaddlinear   464.982902\n3    rmseaddquad   301.738007\n4       rmseexpo   466.247973\n5        rmselin   421.178788\n6        rmsemul  1963.389640\n7      rmsemulin   225.524390\n8       rmsequad   475.561835"
          },
          "execution_count": 25,
          "metadata": {},
          "output_type": "execute_result"
        }
      ]
    },
    {
      "metadata": {
        "trusted": true
      },
      "cell_type": "code",
      "source": "#final model with least rmse value that is mullin",
      "execution_count": 35,
      "outputs": []
    }
  ],
  "metadata": {
    "kernelspec": {
      "name": "python3",
      "display_name": "Python 3",
      "language": "python"
    },
    "language_info": {
      "name": "python",
      "version": "3.7.6",
      "mimetype": "text/x-python",
      "codemirror_mode": {
        "name": "ipython",
        "version": 3
      },
      "pygments_lexer": "ipython3",
      "nbconvert_exporter": "python",
      "file_extension": ".py"
    },
    "gist": {
      "id": "",
      "data": {
        "description": "Coca-Cola_forecasting.ipynb",
        "public": true
      }
    }
  },
  "nbformat": 4,
  "nbformat_minor": 4
}